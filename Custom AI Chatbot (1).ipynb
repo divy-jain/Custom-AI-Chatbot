{
 "cells": [
  {
   "cell_type": "code",
   "execution_count": 1,
   "id": "71e8762a",
   "metadata": {},
   "outputs": [
    {
     "name": "stdout",
     "output_type": "stream",
     "text": [
      "Requirement already satisfied: openai in c:\\users\\divya\\anaconda3\\lib\\site-packages (0.27.8)\n",
      "Requirement already satisfied: aiohttp in c:\\users\\divya\\anaconda3\\lib\\site-packages (from openai) (3.8.4)\n",
      "Requirement already satisfied: tqdm in c:\\users\\divya\\anaconda3\\lib\\site-packages (from openai) (4.64.0)\n",
      "Requirement already satisfied: requests>=2.20 in c:\\users\\divya\\anaconda3\\lib\\site-packages (from openai) (2.27.1)\n",
      "Requirement already satisfied: urllib3<1.27,>=1.21.1 in c:\\users\\divya\\anaconda3\\lib\\site-packages (from requests>=2.20->openai) (1.26.9)\n",
      "Requirement already satisfied: certifi>=2017.4.17 in c:\\users\\divya\\anaconda3\\lib\\site-packages (from requests>=2.20->openai) (2021.10.8)\n",
      "Requirement already satisfied: charset-normalizer~=2.0.0 in c:\\users\\divya\\anaconda3\\lib\\site-packages (from requests>=2.20->openai) (2.0.4)\n",
      "Requirement already satisfied: idna<4,>=2.5 in c:\\users\\divya\\anaconda3\\lib\\site-packages (from requests>=2.20->openai) (3.3)\n",
      "Requirement already satisfied: attrs>=17.3.0 in c:\\users\\divya\\anaconda3\\lib\\site-packages (from aiohttp->openai) (21.4.0)\n",
      "Requirement already satisfied: frozenlist>=1.1.1 in c:\\users\\divya\\anaconda3\\lib\\site-packages (from aiohttp->openai) (1.2.0)\n",
      "Requirement already satisfied: yarl<2.0,>=1.0 in c:\\users\\divya\\anaconda3\\lib\\site-packages (from aiohttp->openai) (1.6.3)\n",
      "Requirement already satisfied: async-timeout<5.0,>=4.0.0a3 in c:\\users\\divya\\anaconda3\\lib\\site-packages (from aiohttp->openai) (4.0.1)\n",
      "Requirement already satisfied: aiosignal>=1.1.2 in c:\\users\\divya\\anaconda3\\lib\\site-packages (from aiohttp->openai) (1.2.0)\n",
      "Requirement already satisfied: multidict<7.0,>=4.5 in c:\\users\\divya\\anaconda3\\lib\\site-packages (from aiohttp->openai) (5.1.0)\n",
      "Requirement already satisfied: typing-extensions>=3.6.5 in c:\\users\\divya\\anaconda3\\lib\\site-packages (from async-timeout<5.0,>=4.0.0a3->aiohttp->openai) (4.5.0)\n",
      "Requirement already satisfied: colorama in c:\\users\\divya\\anaconda3\\lib\\site-packages (from tqdm->openai) (0.4.4)\n",
      "Note: you may need to restart the kernel to use updated packages.\n"
     ]
    }
   ],
   "source": [
    "pip install openai"
   ]
  },
  {
   "cell_type": "code",
   "execution_count": 2,
   "id": "897bade9",
   "metadata": {},
   "outputs": [
    {
     "name": "stdout",
     "output_type": "stream",
     "text": [
      "Requirement already satisfied: gpt_index==0.4.24 in c:\\users\\divya\\anaconda3\\lib\\site-packages (0.4.24)\n",
      "Requirement already satisfied: tiktoken in c:\\users\\divya\\anaconda3\\lib\\site-packages (from gpt_index==0.4.24) (0.4.0)\n",
      "Requirement already satisfied: dataclasses-json in c:\\users\\divya\\anaconda3\\lib\\site-packages (from gpt_index==0.4.24) (0.5.8)\n",
      "Requirement already satisfied: tenacity<9.0.0,>=8.2.0 in c:\\users\\divya\\anaconda3\\lib\\site-packages (from gpt_index==0.4.24) (8.2.2)\n",
      "Requirement already satisfied: pandas in c:\\users\\divya\\anaconda3\\lib\\site-packages (from gpt_index==0.4.24) (1.4.2)\n",
      "Requirement already satisfied: openai>=0.26.4 in c:\\users\\divya\\anaconda3\\lib\\site-packages (from gpt_index==0.4.24) (0.27.8)\n",
      "Requirement already satisfied: numpy in c:\\users\\divya\\anaconda3\\lib\\site-packages (from gpt_index==0.4.24) (1.21.5)\n",
      "Requirement already satisfied: langchain in c:\\users\\divya\\anaconda3\\lib\\site-packages (from gpt_index==0.4.24) (0.0.118)\n",
      "Requirement already satisfied: requests>=2.20 in c:\\users\\divya\\anaconda3\\lib\\site-packages (from openai>=0.26.4->gpt_index==0.4.24) (2.27.1)\n",
      "Requirement already satisfied: tqdm in c:\\users\\divya\\anaconda3\\lib\\site-packages (from openai>=0.26.4->gpt_index==0.4.24) (4.64.0)\n",
      "Requirement already satisfied: aiohttp in c:\\users\\divya\\anaconda3\\lib\\site-packages (from openai>=0.26.4->gpt_index==0.4.24) (3.8.4)\n",
      "Requirement already satisfied: urllib3<1.27,>=1.21.1 in c:\\users\\divya\\anaconda3\\lib\\site-packages (from requests>=2.20->openai>=0.26.4->gpt_index==0.4.24) (1.26.9)\n",
      "Requirement already satisfied: idna<4,>=2.5 in c:\\users\\divya\\anaconda3\\lib\\site-packages (from requests>=2.20->openai>=0.26.4->gpt_index==0.4.24) (3.3)\n",
      "Requirement already satisfied: certifi>=2017.4.17 in c:\\users\\divya\\anaconda3\\lib\\site-packages (from requests>=2.20->openai>=0.26.4->gpt_index==0.4.24) (2021.10.8)\n",
      "Requirement already satisfied: charset-normalizer~=2.0.0 in c:\\users\\divya\\anaconda3\\lib\\site-packages (from requests>=2.20->openai>=0.26.4->gpt_index==0.4.24) (2.0.4)\n",
      "Requirement already satisfied: multidict<7.0,>=4.5 in c:\\users\\divya\\anaconda3\\lib\\site-packages (from aiohttp->openai>=0.26.4->gpt_index==0.4.24) (5.1.0)\n",
      "Requirement already satisfied: yarl<2.0,>=1.0 in c:\\users\\divya\\anaconda3\\lib\\site-packages (from aiohttp->openai>=0.26.4->gpt_index==0.4.24) (1.6.3)\n",
      "Requirement already satisfied: attrs>=17.3.0 in c:\\users\\divya\\anaconda3\\lib\\site-packages (from aiohttp->openai>=0.26.4->gpt_index==0.4.24) (21.4.0)\n",
      "Requirement already satisfied: aiosignal>=1.1.2 in c:\\users\\divya\\anaconda3\\lib\\site-packages (from aiohttp->openai>=0.26.4->gpt_index==0.4.24) (1.2.0)\n",
      "Requirement already satisfied: async-timeout<5.0,>=4.0.0a3 in c:\\users\\divya\\anaconda3\\lib\\site-packages (from aiohttp->openai>=0.26.4->gpt_index==0.4.24) (4.0.1)\n",
      "Requirement already satisfied: frozenlist>=1.1.1 in c:\\users\\divya\\anaconda3\\lib\\site-packages (from aiohttp->openai>=0.26.4->gpt_index==0.4.24) (1.2.0)\n",
      "Requirement already satisfied: typing-extensions>=3.6.5 in c:\\users\\divya\\anaconda3\\lib\\site-packages (from async-timeout<5.0,>=4.0.0a3->aiohttp->openai>=0.26.4->gpt_index==0.4.24) (4.5.0)\n",
      "Requirement already satisfied: typing-inspect>=0.4.0 in c:\\users\\divya\\anaconda3\\lib\\site-packages (from dataclasses-json->gpt_index==0.4.24) (0.8.0)\n",
      "Requirement already satisfied: marshmallow<4.0.0,>=3.3.0 in c:\\users\\divya\\anaconda3\\lib\\site-packages (from dataclasses-json->gpt_index==0.4.24) (3.19.0)\n",
      "Requirement already satisfied: marshmallow-enum<2.0.0,>=1.5.1 in c:\\users\\divya\\anaconda3\\lib\\site-packages (from dataclasses-json->gpt_index==0.4.24) (1.5.1)\n",
      "Requirement already satisfied: packaging>=17.0 in c:\\users\\divya\\anaconda3\\lib\\site-packages (from marshmallow<4.0.0,>=3.3.0->dataclasses-json->gpt_index==0.4.24) (21.3)\n",
      "Requirement already satisfied: pyparsing!=3.0.5,>=2.0.2 in c:\\users\\divya\\anaconda3\\lib\\site-packages (from packaging>=17.0->marshmallow<4.0.0,>=3.3.0->dataclasses-json->gpt_index==0.4.24) (3.0.4)\n",
      "Requirement already satisfied: mypy-extensions>=0.3.0 in c:\\users\\divya\\anaconda3\\lib\\site-packages (from typing-inspect>=0.4.0->dataclasses-json->gpt_index==0.4.24) (0.4.3)\n",
      "Requirement already satisfied: pydantic<2,>=1 in c:\\users\\divya\\anaconda3\\lib\\site-packages (from langchain->gpt_index==0.4.24) (1.10.9)\n",
      "Requirement already satisfied: SQLAlchemy<2,>=1 in c:\\users\\divya\\anaconda3\\lib\\site-packages (from langchain->gpt_index==0.4.24) (1.4.48)\n",
      "Requirement already satisfied: PyYAML>=5.4.1 in c:\\users\\divya\\anaconda3\\lib\\site-packages (from langchain->gpt_index==0.4.24) (6.0)Note: you may need to restart the kernel to use updated packages.\n",
      "\n",
      "Requirement already satisfied: greenlet!=0.4.17 in c:\\users\\divya\\anaconda3\\lib\\site-packages (from SQLAlchemy<2,>=1->langchain->gpt_index==0.4.24) (1.1.1)\n",
      "Requirement already satisfied: python-dateutil>=2.8.1 in c:\\users\\divya\\anaconda3\\lib\\site-packages (from pandas->gpt_index==0.4.24) (2.8.2)\n",
      "Requirement already satisfied: pytz>=2020.1 in c:\\users\\divya\\anaconda3\\lib\\site-packages (from pandas->gpt_index==0.4.24) (2021.3)\n",
      "Requirement already satisfied: six>=1.5 in c:\\users\\divya\\anaconda3\\lib\\site-packages (from python-dateutil>=2.8.1->pandas->gpt_index==0.4.24) (1.16.0)\n",
      "Requirement already satisfied: regex>=2022.1.18 in c:\\users\\divya\\anaconda3\\lib\\site-packages (from tiktoken->gpt_index==0.4.24) (2022.3.15)\n",
      "Requirement already satisfied: colorama in c:\\users\\divya\\anaconda3\\lib\\site-packages (from tqdm->openai>=0.26.4->gpt_index==0.4.24) (0.4.4)\n"
     ]
    }
   ],
   "source": [
    "pip install gpt_index==0.4.24\n"
   ]
  },
  {
   "cell_type": "code",
   "execution_count": 3,
   "id": "796cd5d1",
   "metadata": {},
   "outputs": [
    {
     "name": "stdout",
     "output_type": "stream",
     "text": [
      "Requirement already satisfied: PyPDF2 in c:\\users\\divya\\anaconda3\\lib\\site-packages (3.0.1)\n",
      "Requirement already satisfied: typing_extensions>=3.10.0.0 in c:\\users\\divya\\anaconda3\\lib\\site-packages (from PyPDF2) (4.5.0)\n",
      "Note: you may need to restart the kernel to use updated packages.\n"
     ]
    }
   ],
   "source": [
    "pip install PyPDF2\n"
   ]
  },
  {
   "cell_type": "code",
   "execution_count": 4,
   "id": "a4dc2fa9",
   "metadata": {},
   "outputs": [
    {
     "name": "stdout",
     "output_type": "stream",
     "text": [
      "Requirement already satisfied: PyCryptodome in c:\\users\\divya\\anaconda3\\lib\\site-packages (3.18.0)\n",
      "Note: you may need to restart the kernel to use updated packages.\n"
     ]
    }
   ],
   "source": [
    "pip install PyCryptodome"
   ]
  },
  {
   "cell_type": "code",
   "execution_count": 5,
   "id": "90ed456e",
   "metadata": {},
   "outputs": [
    {
     "name": "stdout",
     "output_type": "stream",
     "text": [
      "Requirement already satisfied: gradio in c:\\users\\divya\\anaconda3\\lib\\site-packages (3.35.2)\n",
      "Requirement already satisfied: pandas in c:\\users\\divya\\anaconda3\\lib\\site-packages (from gradio) (1.4.2)\n",
      "Requirement already satisfied: matplotlib in c:\\users\\divya\\anaconda3\\lib\\site-packages (from gradio) (3.5.1)\n",
      "Requirement already satisfied: pillow in c:\\users\\divya\\anaconda3\\lib\\site-packages (from gradio) (9.0.1)\n",
      "Requirement already satisfied: websockets>=10.0 in c:\\users\\divya\\anaconda3\\lib\\site-packages (from gradio) (11.0.3)\n",
      "Requirement already satisfied: python-multipart in c:\\users\\divya\\anaconda3\\lib\\site-packages (from gradio) (0.0.6)\n",
      "Requirement already satisfied: requests in c:\\users\\divya\\anaconda3\\lib\\site-packages (from gradio) (2.27.1)\n",
      "Requirement already satisfied: markdown-it-py[linkify]>=2.0.0 in c:\\users\\divya\\anaconda3\\lib\\site-packages (from gradio) (2.2.0)\n",
      "Requirement already satisfied: pydantic in c:\\users\\divya\\anaconda3\\lib\\site-packages (from gradio) (1.10.9)\n",
      "Requirement already satisfied: orjson in c:\\users\\divya\\anaconda3\\lib\\site-packages (from gradio) (3.9.1)\n",
      "Requirement already satisfied: huggingface-hub>=0.14.0 in c:\\users\\divya\\anaconda3\\lib\\site-packages (from gradio) (0.15.1)\n",
      "Requirement already satisfied: markupsafe in c:\\users\\divya\\anaconda3\\lib\\site-packages (from gradio) (2.0.1)\n",
      "Requirement already satisfied: ffmpy in c:\\users\\divya\\anaconda3\\lib\\site-packages (from gradio) (0.3.0)\n",
      "Requirement already satisfied: numpy in c:\\users\\divya\\anaconda3\\lib\\site-packages (from gradio) (1.21.5)\n",
      "Requirement already satisfied: httpx in c:\\users\\divya\\anaconda3\\lib\\site-packages (from gradio) (0.24.1)\n",
      "Requirement already satisfied: semantic-version in c:\\users\\divya\\anaconda3\\lib\\site-packages (from gradio) (2.10.0)\n",
      "Requirement already satisfied: pyyaml in c:\\users\\divya\\anaconda3\\lib\\site-packages (from gradio) (6.0)\n",
      "Requirement already satisfied: altair>=4.2.0 in c:\\users\\divya\\anaconda3\\lib\\site-packages (from gradio) (5.0.1)\n",
      "Requirement already satisfied: pydub in c:\\users\\divya\\anaconda3\\lib\\site-packages (from gradio) (0.25.1)\n",
      "Requirement already satisfied: gradio-client>=0.2.7 in c:\\users\\divya\\anaconda3\\lib\\site-packages (from gradio) (0.2.7)\n",
      "Requirement already satisfied: aiohttp in c:\\users\\divya\\anaconda3\\lib\\site-packages (from gradio) (3.8.4)\n",
      "Requirement already satisfied: aiofiles in c:\\users\\divya\\anaconda3\\lib\\site-packages (from gradio) (23.1.0)\n",
      "Requirement already satisfied: fastapi in c:\\users\\divya\\anaconda3\\lib\\site-packages (from gradio) (0.97.0)\n",
      "Requirement already satisfied: uvicorn>=0.14.0 in c:\\users\\divya\\anaconda3\\lib\\site-packages (from gradio) (0.22.0)\n",
      "Requirement already satisfied: pygments>=2.12.0 in c:\\users\\divya\\anaconda3\\lib\\site-packages (from gradio) (2.15.1)\n",
      "Requirement already satisfied: mdit-py-plugins<=0.3.3 in c:\\users\\divya\\anaconda3\\lib\\site-packages (from gradio) (0.3.3)\n",
      "Requirement already satisfied: jinja2 in c:\\users\\divya\\anaconda3\\lib\\site-packages (from gradio) (2.11.3)\n",
      "Requirement already satisfied: toolz in c:\\users\\divya\\anaconda3\\lib\\site-packages (from altair>=4.2.0->gradio) (0.11.2)\n",
      "Requirement already satisfied: jsonschema>=3.0 in c:\\users\\divya\\anaconda3\\lib\\site-packages (from altair>=4.2.0->gradio) (4.4.0)\n",
      "Requirement already satisfied: typing-extensions>=4.0.1 in c:\\users\\divya\\anaconda3\\lib\\site-packages (from altair>=4.2.0->gradio) (4.5.0)\n",
      "Requirement already satisfied: fsspec in c:\\users\\divya\\anaconda3\\lib\\site-packages (from gradio-client>=0.2.7->gradio) (2023.6.0)\n",
      "Requirement already satisfied: packaging in c:\\users\\divya\\anaconda3\\lib\\site-packages (from gradio-client>=0.2.7->gradio) (21.3)\n",
      "Requirement already satisfied: filelock in c:\\users\\divya\\anaconda3\\lib\\site-packages (from huggingface-hub>=0.14.0->gradio) (3.6.0)\n",
      "Requirement already satisfied: tqdm>=4.42.1 in c:\\users\\divya\\anaconda3\\lib\\site-packages (from huggingface-hub>=0.14.0->gradio) (4.64.0)\n",
      "Requirement already satisfied: attrs>=17.4.0 in c:\\users\\divya\\anaconda3\\lib\\site-packages (from jsonschema>=3.0->altair>=4.2.0->gradio) (21.4.0)\n",
      "Requirement already satisfied: pyrsistent!=0.17.0,!=0.17.1,!=0.17.2,>=0.14.0 in c:\\users\\divya\\anaconda3\\lib\\site-packages (from jsonschema>=3.0->altair>=4.2.0->gradio) (0.18.0)\n",
      "Requirement already satisfied: mdurl~=0.1 in c:\\users\\divya\\anaconda3\\lib\\site-packages (from markdown-it-py[linkify]>=2.0.0->gradio) (0.1.2)\n",
      "Requirement already satisfied: linkify-it-py<3,>=1 in c:\\users\\divya\\anaconda3\\lib\\site-packages (from markdown-it-py[linkify]>=2.0.0->gradio) (2.0.2)\n",
      "Requirement already satisfied: uc-micro-py in c:\\users\\divya\\anaconda3\\lib\\site-packages (from linkify-it-py<3,>=1->markdown-it-py[linkify]>=2.0.0->gradio) (1.0.2)\n",
      "Requirement already satisfied: pyparsing!=3.0.5,>=2.0.2 in c:\\users\\divya\\anaconda3\\lib\\site-packages (from packaging->gradio-client>=0.2.7->gradio) (3.0.4)\n",
      "Requirement already satisfied: pytz>=2020.1 in c:\\users\\divya\\anaconda3\\lib\\site-packages (from pandas->gradio) (2021.3)\n",
      "Note: you may need to restart the kernel to use updated packages.Requirement already satisfied: python-dateutil>=2.8.1 in c:\\users\\divya\\anaconda3\\lib\\site-packages (from pandas->gradio) (2.8.2)\n",
      "\n",
      "Requirement already satisfied: six>=1.5 in c:\\users\\divya\\anaconda3\\lib\\site-packages (from python-dateutil>=2.8.1->pandas->gradio) (1.16.0)\n",
      "Requirement already satisfied: colorama in c:\\users\\divya\\anaconda3\\lib\\site-packages (from tqdm>=4.42.1->huggingface-hub>=0.14.0->gradio) (0.4.4)\n",
      "Requirement already satisfied: click>=7.0 in c:\\users\\divya\\anaconda3\\lib\\site-packages (from uvicorn>=0.14.0->gradio) (8.0.4)\n",
      "Requirement already satisfied: h11>=0.8 in c:\\users\\divya\\anaconda3\\lib\\site-packages (from uvicorn>=0.14.0->gradio) (0.14.0)\n",
      "Requirement already satisfied: frozenlist>=1.1.1 in c:\\users\\divya\\anaconda3\\lib\\site-packages (from aiohttp->gradio) (1.2.0)\n",
      "Requirement already satisfied: async-timeout<5.0,>=4.0.0a3 in c:\\users\\divya\\anaconda3\\lib\\site-packages (from aiohttp->gradio) (4.0.1)\n",
      "Requirement already satisfied: aiosignal>=1.1.2 in c:\\users\\divya\\anaconda3\\lib\\site-packages (from aiohttp->gradio) (1.2.0)\n",
      "Requirement already satisfied: multidict<7.0,>=4.5 in c:\\users\\divya\\anaconda3\\lib\\site-packages (from aiohttp->gradio) (5.1.0)\n",
      "Requirement already satisfied: charset-normalizer<4.0,>=2.0 in c:\\users\\divya\\anaconda3\\lib\\site-packages (from aiohttp->gradio) (2.0.4)\n",
      "Requirement already satisfied: yarl<2.0,>=1.0 in c:\\users\\divya\\anaconda3\\lib\\site-packages (from aiohttp->gradio) (1.6.3)\n",
      "Requirement already satisfied: idna>=2.0 in c:\\users\\divya\\anaconda3\\lib\\site-packages (from yarl<2.0,>=1.0->aiohttp->gradio) (3.3)\n",
      "Requirement already satisfied: starlette<0.28.0,>=0.27.0 in c:\\users\\divya\\anaconda3\\lib\\site-packages (from fastapi->gradio) (0.27.0)\n",
      "Requirement already satisfied: anyio<5,>=3.4.0 in c:\\users\\divya\\anaconda3\\lib\\site-packages (from starlette<0.28.0,>=0.27.0->fastapi->gradio) (3.5.0)\n",
      "Requirement already satisfied: sniffio>=1.1 in c:\\users\\divya\\anaconda3\\lib\\site-packages (from anyio<5,>=3.4.0->starlette<0.28.0,>=0.27.0->fastapi->gradio) (1.2.0)\n",
      "Requirement already satisfied: certifi in c:\\users\\divya\\anaconda3\\lib\\site-packages (from httpx->gradio) (2021.10.8)\n",
      "Requirement already satisfied: httpcore<0.18.0,>=0.15.0 in c:\\users\\divya\\anaconda3\\lib\\site-packages (from httpx->gradio) (0.17.2)\n",
      "Requirement already satisfied: fonttools>=4.22.0 in c:\\users\\divya\\anaconda3\\lib\\site-packages (from matplotlib->gradio) (4.25.0)\n",
      "Requirement already satisfied: cycler>=0.10 in c:\\users\\divya\\anaconda3\\lib\\site-packages (from matplotlib->gradio) (0.11.0)\n",
      "Requirement already satisfied: kiwisolver>=1.0.1 in c:\\users\\divya\\anaconda3\\lib\\site-packages (from matplotlib->gradio) (1.3.2)\n",
      "Requirement already satisfied: urllib3<1.27,>=1.21.1 in c:\\users\\divya\\anaconda3\\lib\\site-packages (from requests->gradio) (1.26.9)\n"
     ]
    }
   ],
   "source": [
    "pip install gradio\n"
   ]
  },
  {
   "cell_type": "code",
   "execution_count": 6,
   "id": "82dbe05f",
   "metadata": {},
   "outputs": [
    {
     "name": "stdout",
     "output_type": "stream",
     "text": [
      "Requirement already satisfied: llama-index==0.5.6 in c:\\users\\divya\\anaconda3\\lib\\site-packages (0.5.6)\n",
      "Requirement already satisfied: pandas in c:\\users\\divya\\anaconda3\\lib\\site-packages (from llama-index==0.5.6) (1.4.2)\n",
      "Requirement already satisfied: openai>=0.26.4 in c:\\users\\divya\\anaconda3\\lib\\site-packages (from llama-index==0.5.6) (0.27.8)\n",
      "Requirement already satisfied: dataclasses-json in c:\\users\\divya\\anaconda3\\lib\\site-packages (from llama-index==0.5.6) (0.5.8)\n",
      "Requirement already satisfied: numpy in c:\\users\\divya\\anaconda3\\lib\\site-packages (from llama-index==0.5.6) (1.21.5)\n",
      "Requirement already satisfied: tenacity<9.0.0,>=8.2.0 in c:\\users\\divya\\anaconda3\\lib\\site-packages (from llama-index==0.5.6) (8.2.2)\n",
      "Requirement already satisfied: tiktoken in c:\\users\\divya\\anaconda3\\lib\\site-packages (from llama-index==0.5.6) (0.4.0)\n",
      "Requirement already satisfied: langchain in c:\\users\\divya\\anaconda3\\lib\\site-packages (from llama-index==0.5.6) (0.0.118)\n",
      "Requirement already satisfied: aiohttp in c:\\users\\divya\\anaconda3\\lib\\site-packages (from openai>=0.26.4->llama-index==0.5.6) (3.8.4)\n",
      "Requirement already satisfied: tqdm in c:\\users\\divya\\anaconda3\\lib\\site-packages (from openai>=0.26.4->llama-index==0.5.6) (4.64.0)\n",
      "Requirement already satisfied: requests>=2.20 in c:\\users\\divya\\anaconda3\\lib\\site-packages (from openai>=0.26.4->llama-index==0.5.6) (2.27.1)\n",
      "Requirement already satisfied: idna<4,>=2.5 in c:\\users\\divya\\anaconda3\\lib\\site-packages (from requests>=2.20->openai>=0.26.4->llama-index==0.5.6) (3.3)\n",
      "Requirement already satisfied: charset-normalizer~=2.0.0 in c:\\users\\divya\\anaconda3\\lib\\site-packages (from requests>=2.20->openai>=0.26.4->llama-index==0.5.6) (2.0.4)\n",
      "Requirement already satisfied: urllib3<1.27,>=1.21.1 in c:\\users\\divya\\anaconda3\\lib\\site-packages (from requests>=2.20->openai>=0.26.4->llama-index==0.5.6) (1.26.9)\n",
      "Requirement already satisfied: certifi>=2017.4.17 in c:\\users\\divya\\anaconda3\\lib\\site-packages (from requests>=2.20->openai>=0.26.4->llama-index==0.5.6) (2021.10.8)\n",
      "Requirement already satisfied: aiosignal>=1.1.2 in c:\\users\\divya\\anaconda3\\lib\\site-packages (from aiohttp->openai>=0.26.4->llama-index==0.5.6) (1.2.0)\n",
      "Requirement already satisfied: multidict<7.0,>=4.5 in c:\\users\\divya\\anaconda3\\lib\\site-packages (from aiohttp->openai>=0.26.4->llama-index==0.5.6) (5.1.0)\n",
      "Requirement already satisfied: async-timeout<5.0,>=4.0.0a3 in c:\\users\\divya\\anaconda3\\lib\\site-packages (from aiohttp->openai>=0.26.4->llama-index==0.5.6) (4.0.1)\n",
      "Requirement already satisfied: frozenlist>=1.1.1 in c:\\users\\divya\\anaconda3\\lib\\site-packages (from aiohttp->openai>=0.26.4->llama-index==0.5.6) (1.2.0)\n",
      "Requirement already satisfied: attrs>=17.3.0 in c:\\users\\divya\\anaconda3\\lib\\site-packages (from aiohttp->openai>=0.26.4->llama-index==0.5.6) (21.4.0)\n",
      "Requirement already satisfied: yarl<2.0,>=1.0 in c:\\users\\divya\\anaconda3\\lib\\site-packages (from aiohttp->openai>=0.26.4->llama-index==0.5.6) (1.6.3)\n",
      "Requirement already satisfied: typing-extensions>=3.6.5 in c:\\users\\divya\\anaconda3\\lib\\site-packages (from async-timeout<5.0,>=4.0.0a3->aiohttp->openai>=0.26.4->llama-index==0.5.6) (4.5.0)\n",
      "Requirement already satisfied: marshmallow-enum<2.0.0,>=1.5.1 in c:\\users\\divya\\anaconda3\\lib\\site-packages (from dataclasses-json->llama-index==0.5.6) (1.5.1)\n",
      "Requirement already satisfied: typing-inspect>=0.4.0 in c:\\users\\divya\\anaconda3\\lib\\site-packages (from dataclasses-json->llama-index==0.5.6) (0.8.0)\n",
      "Requirement already satisfied: marshmallow<4.0.0,>=3.3.0 in c:\\users\\divya\\anaconda3\\lib\\site-packages (from dataclasses-json->llama-index==0.5.6) (3.19.0)\n",
      "Requirement already satisfied: packaging>=17.0 in c:\\users\\divya\\anaconda3\\lib\\site-packages (from marshmallow<4.0.0,>=3.3.0->dataclasses-json->llama-index==0.5.6) (21.3)\n",
      "Requirement already satisfied: pyparsing!=3.0.5,>=2.0.2 in c:\\users\\divya\\anaconda3\\lib\\site-packages (from packaging>=17.0->marshmallow<4.0.0,>=3.3.0->dataclasses-json->llama-index==0.5.6) (3.0.4)\n",
      "Requirement already satisfied: mypy-extensions>=0.3.0 in c:\\users\\divya\\anaconda3\\lib\\site-packages (from typing-inspect>=0.4.0->dataclasses-json->llama-index==0.5.6) (0.4.3)\n",
      "Requirement already satisfied: pydantic<2,>=1 in c:\\users\\divya\\anaconda3\\lib\\site-packages (from langchain->llama-index==0.5.6) (1.10.9)\n",
      "Requirement already satisfied: SQLAlchemy<2,>=1 in c:\\users\\divya\\anaconda3\\lib\\site-packages (from langchain->llama-index==0.5.6) (1.4.48)\n",
      "Requirement already satisfied: PyYAML>=5.4.1 in c:\\users\\divya\\anaconda3\\lib\\site-packages (from langchain->llama-index==0.5.6) (6.0)\n",
      "Requirement already satisfied: greenlet!=0.4.17 in c:\\users\\divya\\anaconda3\\lib\\site-packages (from SQLAlchemy<2,>=1->langchain->llama-index==0.5.6) (1.1.1)\n",
      "Requirement already satisfied: python-dateutil>=2.8.1 in c:\\users\\divya\\anaconda3\\lib\\site-packages (from pandas->llama-index==0.5.6) (2.8.2)\n",
      "Requirement already satisfied: pytz>=2020.1 in c:\\users\\divya\\anaconda3\\lib\\site-packages (from pandas->llama-index==0.5.6) (2021.3)\n",
      "Requirement already satisfied: six>=1.5 in c:\\users\\divya\\anaconda3\\lib\\site-packages (from python-dateutil>=2.8.1->pandas->llama-index==0.5.6) (1.16.0)\n",
      "Requirement already satisfied: regex>=2022.1.18 in c:\\users\\divya\\anaconda3\\lib\\site-packages (from tiktoken->llama-index==0.5.6) (2022.3.15)\n",
      "Requirement already satisfied: colorama in c:\\users\\divya\\anaconda3\\lib\\site-packages (from tqdm->openai>=0.26.4->llama-index==0.5.6) (0.4.4)\n",
      "Note: you may need to restart the kernel to use updated packages.\n"
     ]
    }
   ],
   "source": [
    "pip install llama-index==0.5.6"
   ]
  },
  {
   "cell_type": "code",
   "execution_count": 7,
   "id": "6068438f",
   "metadata": {},
   "outputs": [
    {
     "name": "stdout",
     "output_type": "stream",
     "text": [
      "Requirement already satisfied: langchain==0.0.118 in c:\\users\\divya\\anaconda3\\lib\\site-packages (0.0.118)\n",
      "Requirement already satisfied: pydantic<2,>=1 in c:\\users\\divya\\anaconda3\\lib\\site-packages (from langchain==0.0.118) (1.10.9)\n",
      "Requirement already satisfied: tenacity<9.0.0,>=8.1.0 in c:\\users\\divya\\anaconda3\\lib\\site-packages (from langchain==0.0.118) (8.2.2)\n",
      "Requirement already satisfied: numpy<2,>=1 in c:\\users\\divya\\anaconda3\\lib\\site-packages (from langchain==0.0.118) (1.21.5)\n",
      "Requirement already satisfied: SQLAlchemy<2,>=1 in c:\\users\\divya\\anaconda3\\lib\\site-packages (from langchain==0.0.118) (1.4.48)\n",
      "Requirement already satisfied: PyYAML>=5.4.1 in c:\\users\\divya\\anaconda3\\lib\\site-packages (from langchain==0.0.118) (6.0)\n",
      "Requirement already satisfied: requests<3,>=2 in c:\\users\\divya\\anaconda3\\lib\\site-packages (from langchain==0.0.118) (2.27.1)\n",
      "Requirement already satisfied: aiohttp<4.0.0,>=3.8.3 in c:\\users\\divya\\anaconda3\\lib\\site-packages (from langchain==0.0.118) (3.8.4)\n",
      "Requirement already satisfied: dataclasses-json<0.6.0,>=0.5.7 in c:\\users\\divya\\anaconda3\\lib\\site-packages (from langchain==0.0.118) (0.5.8)\n",
      "Requirement already satisfied: frozenlist>=1.1.1 in c:\\users\\divya\\anaconda3\\lib\\site-packages (from aiohttp<4.0.0,>=3.8.3->langchain==0.0.118) (1.2.0)\n",
      "Requirement already satisfied: aiosignal>=1.1.2 in c:\\users\\divya\\anaconda3\\lib\\site-packages (from aiohttp<4.0.0,>=3.8.3->langchain==0.0.118) (1.2.0)\n",
      "Requirement already satisfied: async-timeout<5.0,>=4.0.0a3 in c:\\users\\divya\\anaconda3\\lib\\site-packages (from aiohttp<4.0.0,>=3.8.3->langchain==0.0.118) (4.0.1)\n",
      "Requirement already satisfied: attrs>=17.3.0 in c:\\users\\divya\\anaconda3\\lib\\site-packages (from aiohttp<4.0.0,>=3.8.3->langchain==0.0.118) (21.4.0)\n",
      "Requirement already satisfied: charset-normalizer<4.0,>=2.0 in c:\\users\\divya\\anaconda3\\lib\\site-packages (from aiohttp<4.0.0,>=3.8.3->langchain==0.0.118) (2.0.4)\n",
      "Requirement already satisfied: multidict<7.0,>=4.5 in c:\\users\\divya\\anaconda3\\lib\\site-packages (from aiohttp<4.0.0,>=3.8.3->langchain==0.0.118) (5.1.0)\n",
      "Requirement already satisfied: yarl<2.0,>=1.0 in c:\\users\\divya\\anaconda3\\lib\\site-packages (from aiohttp<4.0.0,>=3.8.3->langchain==0.0.118) (1.6.3)\n",
      "Requirement already satisfied: typing-extensions>=3.6.5 in c:\\users\\divya\\anaconda3\\lib\\site-packages (from async-timeout<5.0,>=4.0.0a3->aiohttp<4.0.0,>=3.8.3->langchain==0.0.118) (4.5.0)\n",
      "Requirement already satisfied: marshmallow-enum<2.0.0,>=1.5.1 in c:\\users\\divya\\anaconda3\\lib\\site-packages (from dataclasses-json<0.6.0,>=0.5.7->langchain==0.0.118) (1.5.1)\n",
      "Requirement already satisfied: typing-inspect>=0.4.0 in c:\\users\\divya\\anaconda3\\lib\\site-packages (from dataclasses-json<0.6.0,>=0.5.7->langchain==0.0.118) (0.8.0)\n",
      "Requirement already satisfied: marshmallow<4.0.0,>=3.3.0 in c:\\users\\divya\\anaconda3\\lib\\site-packages (from dataclasses-json<0.6.0,>=0.5.7->langchain==0.0.118) (3.19.0)\n",
      "Requirement already satisfied: packaging>=17.0 in c:\\users\\divya\\anaconda3\\lib\\site-packages (from marshmallow<4.0.0,>=3.3.0->dataclasses-json<0.6.0,>=0.5.7->langchain==0.0.118) (21.3)\n",
      "Requirement already satisfied: pyparsing!=3.0.5,>=2.0.2 in c:\\users\\divya\\anaconda3\\lib\\site-packages (from packaging>=17.0->marshmallow<4.0.0,>=3.3.0->dataclasses-json<0.6.0,>=0.5.7->langchain==0.0.118) (3.0.4)\n",
      "Requirement already satisfied: certifi>=2017.4.17 in c:\\users\\divya\\anaconda3\\lib\\site-packages (from requests<3,>=2->langchain==0.0.118) (2021.10.8)\n",
      "Requirement already satisfied: urllib3<1.27,>=1.21.1 in c:\\users\\divya\\anaconda3\\lib\\site-packages (from requests<3,>=2->langchain==0.0.118) (1.26.9)\n",
      "Requirement already satisfied: idna<4,>=2.5 in c:\\users\\divya\\anaconda3\\lib\\site-packages (from requests<3,>=2->langchain==0.0.118) (3.3)\n",
      "Requirement already satisfied: greenlet!=0.4.17 in c:\\users\\divya\\anaconda3\\lib\\site-packages (from SQLAlchemy<2,>=1->langchain==0.0.118) (1.1.1)\n",
      "Requirement already satisfied: mypy-extensions>=0.3.0 in c:\\users\\divya\\anaconda3\\lib\\site-packages (from typing-inspect>=0.4.0->dataclasses-json<0.6.0,>=0.5.7->langchain==0.0.118) (0.4.3)\n",
      "Note: you may need to restart the kernel to use updated packages.\n"
     ]
    }
   ],
   "source": [
    "pip install langchain==0.0.118"
   ]
  },
  {
   "cell_type": "code",
   "execution_count": 8,
   "id": "f779d39a",
   "metadata": {},
   "outputs": [
    {
     "name": "stdout",
     "output_type": "stream",
     "text": [
      "Requirement already satisfied: gpt_index==0.4.24 in c:\\users\\divya\\anaconda3\\lib\\site-packages (0.4.24)\n",
      "Requirement already satisfied: openai>=0.26.4 in c:\\users\\divya\\anaconda3\\lib\\site-packages (from gpt_index==0.4.24) (0.27.8)\n",
      "Requirement already satisfied: tiktoken in c:\\users\\divya\\anaconda3\\lib\\site-packages (from gpt_index==0.4.24) (0.4.0)\n",
      "Requirement already satisfied: dataclasses-json in c:\\users\\divya\\anaconda3\\lib\\site-packages (from gpt_index==0.4.24) (0.5.8)\n",
      "Requirement already satisfied: tenacity<9.0.0,>=8.2.0 in c:\\users\\divya\\anaconda3\\lib\\site-packages (from gpt_index==0.4.24) (8.2.2)\n",
      "Requirement already satisfied: numpy in c:\\users\\divya\\anaconda3\\lib\\site-packages (from gpt_index==0.4.24) (1.21.5)\n",
      "Requirement already satisfied: pandas in c:\\users\\divya\\anaconda3\\lib\\site-packages (from gpt_index==0.4.24) (1.4.2)\n",
      "Requirement already satisfied: langchain in c:\\users\\divya\\anaconda3\\lib\\site-packages (from gpt_index==0.4.24) (0.0.118)\n",
      "Note: you may need to restart the kernel to use updated packages.\n",
      "Requirement already satisfied: aiohttp in c:\\users\\divya\\anaconda3\\lib\\site-packages (from openai>=0.26.4->gpt_index==0.4.24) (3.8.4)\n",
      "Requirement already satisfied: requests>=2.20 in c:\\users\\divya\\anaconda3\\lib\\site-packages (from openai>=0.26.4->gpt_index==0.4.24) (2.27.1)\n",
      "Requirement already satisfied: tqdm in c:\\users\\divya\\anaconda3\\lib\\site-packages (from openai>=0.26.4->gpt_index==0.4.24) (4.64.0)\n",
      "Requirement already satisfied: certifi>=2017.4.17 in c:\\users\\divya\\anaconda3\\lib\\site-packages (from requests>=2.20->openai>=0.26.4->gpt_index==0.4.24) (2021.10.8)\n",
      "Requirement already satisfied: urllib3<1.27,>=1.21.1 in c:\\users\\divya\\anaconda3\\lib\\site-packages (from requests>=2.20->openai>=0.26.4->gpt_index==0.4.24) (1.26.9)\n",
      "Requirement already satisfied: idna<4,>=2.5 in c:\\users\\divya\\anaconda3\\lib\\site-packages (from requests>=2.20->openai>=0.26.4->gpt_index==0.4.24) (3.3)\n",
      "Requirement already satisfied: charset-normalizer~=2.0.0 in c:\\users\\divya\\anaconda3\\lib\\site-packages (from requests>=2.20->openai>=0.26.4->gpt_index==0.4.24) (2.0.4)\n",
      "Requirement already satisfied: frozenlist>=1.1.1 in c:\\users\\divya\\anaconda3\\lib\\site-packages (from aiohttp->openai>=0.26.4->gpt_index==0.4.24) (1.2.0)\n",
      "Requirement already satisfied: yarl<2.0,>=1.0 in c:\\users\\divya\\anaconda3\\lib\\site-packages (from aiohttp->openai>=0.26.4->gpt_index==0.4.24) (1.6.3)\n",
      "Requirement already satisfied: async-timeout<5.0,>=4.0.0a3 in c:\\users\\divya\\anaconda3\\lib\\site-packages (from aiohttp->openai>=0.26.4->gpt_index==0.4.24) (4.0.1)\n",
      "Requirement already satisfied: aiosignal>=1.1.2 in c:\\users\\divya\\anaconda3\\lib\\site-packages (from aiohttp->openai>=0.26.4->gpt_index==0.4.24) (1.2.0)\n",
      "Requirement already satisfied: attrs>=17.3.0 in c:\\users\\divya\\anaconda3\\lib\\site-packages (from aiohttp->openai>=0.26.4->gpt_index==0.4.24) (21.4.0)\n",
      "Requirement already satisfied: multidict<7.0,>=4.5 in c:\\users\\divya\\anaconda3\\lib\\site-packages (from aiohttp->openai>=0.26.4->gpt_index==0.4.24) (5.1.0)\n",
      "Requirement already satisfied: typing-extensions>=3.6.5 in c:\\users\\divya\\anaconda3\\lib\\site-packages (from async-timeout<5.0,>=4.0.0a3->aiohttp->openai>=0.26.4->gpt_index==0.4.24) (4.5.0)\n",
      "Requirement already satisfied: typing-inspect>=0.4.0 in c:\\users\\divya\\anaconda3\\lib\\site-packages (from dataclasses-json->gpt_index==0.4.24) (0.8.0)\n",
      "Requirement already satisfied: marshmallow-enum<2.0.0,>=1.5.1 in c:\\users\\divya\\anaconda3\\lib\\site-packages (from dataclasses-json->gpt_index==0.4.24) (1.5.1)\n",
      "Requirement already satisfied: marshmallow<4.0.0,>=3.3.0 in c:\\users\\divya\\anaconda3\\lib\\site-packages (from dataclasses-json->gpt_index==0.4.24) (3.19.0)\n",
      "Requirement already satisfied: packaging>=17.0 in c:\\users\\divya\\anaconda3\\lib\\site-packages (from marshmallow<4.0.0,>=3.3.0->dataclasses-json->gpt_index==0.4.24) (21.3)\n",
      "Requirement already satisfied: pyparsing!=3.0.5,>=2.0.2 in c:\\users\\divya\\anaconda3\\lib\\site-packages (from packaging>=17.0->marshmallow<4.0.0,>=3.3.0->dataclasses-json->gpt_index==0.4.24) (3.0.4)\n",
      "Requirement already satisfied: mypy-extensions>=0.3.0 in c:\\users\\divya\\anaconda3\\lib\\site-packages (from typing-inspect>=0.4.0->dataclasses-json->gpt_index==0.4.24) (0.4.3)\n",
      "Requirement already satisfied: SQLAlchemy<2,>=1 in c:\\users\\divya\\anaconda3\\lib\\site-packages (from langchain->gpt_index==0.4.24) (1.4.48)\n",
      "Requirement already satisfied: PyYAML>=5.4.1 in c:\\users\\divya\\anaconda3\\lib\\site-packages (from langchain->gpt_index==0.4.24) (6.0)\n",
      "Requirement already satisfied: pydantic<2,>=1 in c:\\users\\divya\\anaconda3\\lib\\site-packages (from langchain->gpt_index==0.4.24) (1.10.9)\n",
      "Requirement already satisfied: greenlet!=0.4.17 in c:\\users\\divya\\anaconda3\\lib\\site-packages (from SQLAlchemy<2,>=1->langchain->gpt_index==0.4.24) (1.1.1)\n",
      "Requirement already satisfied: pytz>=2020.1 in c:\\users\\divya\\anaconda3\\lib\\site-packages (from pandas->gpt_index==0.4.24) (2021.3)\n",
      "Requirement already satisfied: python-dateutil>=2.8.1 in c:\\users\\divya\\anaconda3\\lib\\site-packages (from pandas->gpt_index==0.4.24) (2.8.2)\n",
      "Requirement already satisfied: six>=1.5 in c:\\users\\divya\\anaconda3\\lib\\site-packages (from python-dateutil>=2.8.1->pandas->gpt_index==0.4.24) (1.16.0)\n",
      "Requirement already satisfied: regex>=2022.1.18 in c:\\users\\divya\\anaconda3\\lib\\site-packages (from tiktoken->gpt_index==0.4.24) (2022.3.15)\n",
      "Requirement already satisfied: colorama in c:\\users\\divya\\anaconda3\\lib\\site-packages (from tqdm->openai>=0.26.4->gpt_index==0.4.24) (0.4.4)\n"
     ]
    }
   ],
   "source": [
    "pip install gpt_index==0.4.24\n"
   ]
  },
  {
   "cell_type": "code",
   "execution_count": 9,
   "id": "24832544",
   "metadata": {
    "scrolled": true
   },
   "outputs": [
    {
     "name": "stderr",
     "output_type": "stream",
     "text": [
      "INFO:root:> [build_index_from_documents] Total LLM token usage: 0 tokens\n",
      "INFO:root:> [build_index_from_documents] Total embedding token usage: 138770 tokens\n"
     ]
    },
    {
     "name": "stdout",
     "output_type": "stream",
     "text": [
      "Running on local URL:  http://127.0.0.1:7860\n",
      "Running on public URL: https://118ad2fd95c78cd3fa.gradio.live\n",
      "\n",
      "This share link expires in 72 hours. For free permanent hosting and GPU upgrades, run `gradio deploy` from Terminal to deploy to Spaces (https://huggingface.co/spaces)\n"
     ]
    },
    {
     "data": {
      "text/html": [
       "<div><iframe src=\"https://118ad2fd95c78cd3fa.gradio.live\" width=\"100%\" height=\"500\" allow=\"autoplay; camera; microphone; clipboard-read; clipboard-write;\" frameborder=\"0\" allowfullscreen></iframe></div>"
      ],
      "text/plain": [
       "<IPython.core.display.HTML object>"
      ]
     },
     "metadata": {},
     "output_type": "display_data"
    },
    {
     "data": {
      "text/plain": []
     },
     "execution_count": 9,
     "metadata": {},
     "output_type": "execute_result"
    },
    {
     "name": "stderr",
     "output_type": "stream",
     "text": [
      "INFO:root:> [query] Total LLM token usage: 493 tokens\n",
      "INFO:root:> [query] Total embedding token usage: 8 tokens\n",
      "INFO:root:> [query] Total LLM token usage: 471 tokens\n",
      "INFO:root:> [query] Total embedding token usage: 17 tokens\n",
      "INFO:root:> [query] Total LLM token usage: 763 tokens\n",
      "INFO:root:> [query] Total embedding token usage: 19 tokens\n",
      "INFO:root:> [query] Total LLM token usage: 669 tokens\n",
      "INFO:root:> [query] Total embedding token usage: 11 tokens\n",
      "INFO:root:> [query] Total LLM token usage: 682 tokens\n",
      "INFO:root:> [query] Total embedding token usage: 6 tokens\n",
      "INFO:root:> [query] Total LLM token usage: 659 tokens\n",
      "INFO:root:> [query] Total embedding token usage: 15 tokens\n",
      "INFO:root:> [query] Total LLM token usage: 486 tokens\n",
      "INFO:root:> [query] Total embedding token usage: 15 tokens\n",
      "INFO:root:> [query] Total LLM token usage: 630 tokens\n",
      "INFO:root:> [query] Total embedding token usage: 14 tokens\n",
      "INFO:root:> [query] Total LLM token usage: 556 tokens\n",
      "INFO:root:> [query] Total embedding token usage: 10 tokens\n"
     ]
    }
   ],
   "source": [
    "from gpt_index import SimpleDirectoryReader, GPTListIndex, GPTSimpleVectorIndex, LLMPredictor, PromptHelper\n",
    "from langchain.chat_models import ChatOpenAI\n",
    "import gradio as gr\n",
    "import sys\n",
    "import os\n",
    "\n",
    "os.environ[\"OPENAI_API_KEY\"] = 'insert key here'\n",
    "\n",
    "def construct_index(directory_path):\n",
    "    max_input_size = 4096\n",
    "    num_outputs = 512\n",
    "    max_chunk_overlap = 20\n",
    "    chunk_size_limit = 600\n",
    "\n",
    "    prompt_helper = PromptHelper(max_input_size, num_outputs, max_chunk_overlap, chunk_size_limit=chunk_size_limit)\n",
    "\n",
    "    llm_predictor = LLMPredictor(llm=ChatOpenAI(temperature=0.7, model_name=\"gpt-3.5-turbo\", max_tokens=num_outputs))\n",
    "\n",
    "    documents = SimpleDirectoryReader(directory_path).load_data()\n",
    "\n",
    "    index = GPTSimpleVectorIndex(documents, llm_predictor=llm_predictor, prompt_helper=prompt_helper)\n",
    "\n",
    "    index.save_to_disk('index.json')\n",
    "\n",
    "    return index\n",
    "\n",
    "def chatbot(input_text):\n",
    "    index = GPTSimpleVectorIndex.load_from_disk('index.json')\n",
    "    response = index.query(input_text, response_mode=\"compact\")\n",
    "    return response.response\n",
    "\n",
    "iface = gr.Interface(fn=chatbot,\n",
    "                     inputs=gr.components.Textbox(lines=7, label=\"Enter your text\"),\n",
    "                     outputs=\"text\",\n",
    "                     title=\"Custom-trained AI Chatbot\")\n",
    "\n",
    "index = construct_index(\"data\")\n",
    "iface.launch(share=True)"
   ]
  }
 ],
 "metadata": {
  "kernelspec": {
   "display_name": "Python 3 (ipykernel)",
   "language": "python",
   "name": "python3"
  },
  "language_info": {
   "codemirror_mode": {
    "name": "ipython",
    "version": 3
   },
   "file_extension": ".py",
   "mimetype": "text/x-python",
   "name": "python",
   "nbconvert_exporter": "python",
   "pygments_lexer": "ipython3",
   "version": "3.9.12"
  }
 },
 "nbformat": 4,
 "nbformat_minor": 5
}
